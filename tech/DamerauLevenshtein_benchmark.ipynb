{
 "cells": [
  {
   "cell_type": "markdown",
   "id": "d06635f1",
   "metadata": {
    "toc": true
   },
   "source": [
    "<h1>Table of Contents<span class=\"tocSkip\"></span></h1>\n",
    "<div class=\"toc\"><ul class=\"toc-item\"><li><span><a href=\"#performance-benchmark\" data-toc-modified-id=\"performance-benchmark-1\"><span class=\"toc-item-num\">1&nbsp;&nbsp;</span>performance benchmark</a></span><ul class=\"toc-item\"><li><span><a href=\"#load-packages\" data-toc-modified-id=\"load-packages-1.1\"><span class=\"toc-item-num\">1.1&nbsp;&nbsp;</span>load packages</a></span></li><li><span><a href=\"#long-string-test\" data-toc-modified-id=\"long-string-test-1.2\"><span class=\"toc-item-num\">1.2&nbsp;&nbsp;</span>long string test</a></span></li><li><span><a href=\"#short-string-test\" data-toc-modified-id=\"short-string-test-1.3\"><span class=\"toc-item-num\">1.3&nbsp;&nbsp;</span>short string test</a></span></li></ul></li><li><span><a href=\"#main_function\" data-toc-modified-id=\"main_function-2\"><span class=\"toc-item-num\">2&nbsp;&nbsp;</span>main_function</a></span></li></ul></div>"
   ]
  },
  {
   "cell_type": "markdown",
   "id": "aac50841",
   "metadata": {},
   "source": [
    "cleaned code for string_similarity_algorithm"
   ]
  },
  {
   "cell_type": "markdown",
   "id": "f6d47f5f",
   "metadata": {},
   "source": [
    "## performance benchmark\n",
    "- damerau-levenshtein distance \n",
    "    - [x] stringdist (restricted Damerau-Levenshtein distance)\n",
    "    - fastDamerauLevenshtein\n",
    "    - pyxDamerauLevenshtein (restricted edit distance and no custom weights)\n",
    "    - jellyfish (true Damerau-Levenshtein but no custom weights)\n",
    "    - editdistance (restricted edit distance and no custom weights)\n",
    "    - textdistance (true Damerau-Levenshtein but no custom weights)\n",
    "    - pylev\n",
    "    - abydos\n",
    "\n",
    "- restricted Damerau-Levenshtein distance vs true Damerau-Levenshtein distance\n",
    "    -  it assumes no characters were added or deleted between the transposed characters.\n",
    "    - it's simple and it can be optimized for memory usage like Wagner-Fischer. The only difference is you need to keep three rows in memory at any given time, instead of two.\n",
    "    - not a true distance metric because it does not satisfy the triangle inequality. This makes it a poor choice for applications that involve evaluating the similarity of more than two strings, such as clustering.\n",
    "\n",
    "- additional reading: https://www.lemoda.net/text-fuzzy/damerau-levenshtein/"
   ]
  },
  {
   "cell_type": "code",
   "execution_count": 1,
   "id": "f021fd99",
   "metadata": {
    "ExecuteTime": {
     "end_time": "2022-06-16T19:29:40.280143Z",
     "start_time": "2022-06-16T19:29:16.880430Z"
    },
    "collapsed": true
   },
   "outputs": [
    {
     "name": "stdout",
     "output_type": "stream",
     "text": [
      "Looking in indexes: https://artifactory.healthcareit.net/artifactory/api/pypi/ai-python-release/simple\n",
      "Collecting fastDamerauLevenshtein\n",
      "  Downloading https://artifactory.healthcareit.net/artifactory/api/pypi/ai-python-release/packages/packages/42/37/1d3f799161bdc4aebea549f3d782f55107e1d9988c60ed85a30618782d0c/fastDamerauLevenshtein-1.0.7.tar.gz (36 kB)\n",
      "Building wheels for collected packages: fastDamerauLevenshtein\n",
      "  Building wheel for fastDamerauLevenshtein (setup.py) ... \u001b[?25ldone\n",
      "\u001b[?25h  Created wheel for fastDamerauLevenshtein: filename=fastDamerauLevenshtein-1.0.7-cp39-cp39-macosx_10_9_x86_64.whl size=14564 sha256=455dd6b320eaa7aa19e7144ba9719e6543a21f244b17fac630ebed63413f7ecb\n",
      "  Stored in directory: /Users/erzhang/Library/Caches/pip/wheels/e7/57/67/2ea87c7e25cd66ed092a4ce8b9568584e755bcf3d2477210d9\n",
      "Successfully built fastDamerauLevenshtein\n",
      "Installing collected packages: fastDamerauLevenshtein\n",
      "Successfully installed fastDamerauLevenshtein-1.0.7\n",
      "Looking in indexes: https://artifactory.healthcareit.net/artifactory/api/pypi/ai-python-release/simple\n",
      "Requirement already satisfied: pyxDamerauLevenshtein in /Library/miniconda3/envs/rcm/lib/python3.9/site-packages (1.7.0)\n",
      "Looking in indexes: https://artifactory.healthcareit.net/artifactory/api/pypi/ai-python-release/simple\n",
      "Collecting jellyfish\n",
      "  Downloading https://artifactory.healthcareit.net/artifactory/api/pypi/ai-python-release/packages/packages/31/55/5bff6d98b9a1961cf3bf8a3dc3dbd17c1eb62508dd8316ef608d6823e196/jellyfish-0.9.0-cp39-cp39-macosx_10_14_x86_64.whl (25 kB)\n",
      "Installing collected packages: jellyfish\n",
      "Successfully installed jellyfish-0.9.0\n",
      "Looking in indexes: https://artifactory.healthcareit.net/artifactory/api/pypi/ai-python-release/simple\n",
      "Collecting editdistance\n",
      "  Downloading https://artifactory.healthcareit.net/artifactory/api/pypi/ai-python-release/packages/packages/ef/52/a71733351cbf119d5430535f155e318353d7c535f7bd39634f1971ce9330/editdistance-0.6.0-cp39-cp39-macosx_10_9_x86_64.whl (21 kB)\n",
      "Installing collected packages: editdistance\n",
      "Successfully installed editdistance-0.6.0\n",
      "Looking in indexes: https://artifactory.healthcareit.net/artifactory/api/pypi/ai-python-release/simple\n",
      "Requirement already satisfied: textdistance[extras] in /Library/miniconda3/envs/rcm/lib/python3.9/site-packages (4.2.1)\n",
      "Requirement already satisfied: python-Levenshtein in /Library/miniconda3/envs/rcm/lib/python3.9/site-packages (from textdistance[extras]) (0.12.2)\n",
      "Requirement already satisfied: pyxDamerauLevenshtein in /Library/miniconda3/envs/rcm/lib/python3.9/site-packages (from textdistance[extras]) (1.7.0)\n",
      "Requirement already satisfied: jellyfish in /Library/miniconda3/envs/rcm/lib/python3.9/site-packages (from textdistance[extras]) (0.9.0)\n",
      "Requirement already satisfied: numpy in /Library/miniconda3/envs/rcm/lib/python3.9/site-packages (from textdistance[extras]) (1.20.3)\n",
      "Collecting abydos\n",
      "  Downloading https://artifactory.healthcareit.net/artifactory/api/pypi/ai-python-release/packages/packages/7f/a5/ca258a571997be1c9483d6075bbc1b9487ae80f3bb3bf1f60db0b29f5aa6/abydos-0.5.0-py2.py3-none-any.whl (886 kB)\n",
      "\u001b[K     |████████████████████████████████| 886 kB 532 kB/s eta 0:00:01\n",
      "\u001b[?25hCollecting deprecation\n",
      "  Downloading https://artifactory.healthcareit.net/artifactory/api/pypi/ai-python-release/packages/packages/02/c3/253a89ee03fc9b9682f1541728eb66db7db22148cd94f89ab22528cd1e1b/deprecation-2.1.0-py2.py3-none-any.whl (11 kB)\n",
      "Requirement already satisfied: packaging in /Library/miniconda3/envs/rcm/lib/python3.9/site-packages (from deprecation->abydos->textdistance[extras]) (21.3)\n",
      "Requirement already satisfied: pyparsing!=3.0.5,>=2.0.2 in /Library/miniconda3/envs/rcm/lib/python3.9/site-packages (from packaging->deprecation->abydos->textdistance[extras]) (3.0.4)\n",
      "Requirement already satisfied: setuptools in /Library/miniconda3/envs/rcm/lib/python3.9/site-packages (from python-Levenshtein->textdistance[extras]) (58.0.4)\n",
      "Installing collected packages: deprecation, abydos\n",
      "Successfully installed abydos-0.5.0 deprecation-2.1.0\n",
      "Looking in indexes: https://artifactory.healthcareit.net/artifactory/api/pypi/ai-python-release/simple\n",
      "Collecting pylev\n",
      "  Downloading https://artifactory.healthcareit.net/artifactory/api/pypi/ai-python-release/packages/packages/04/78/95cfe72991d22994f0ec5a3b742b31c95a28344d33e06b69406b68398a29/pylev-1.4.0-py2.py3-none-any.whl (6.1 kB)\n",
      "Installing collected packages: pylev\n",
      "Successfully installed pylev-1.4.0\n",
      "Looking in indexes: https://artifactory.healthcareit.net/artifactory/api/pypi/ai-python-release/simple\n",
      "Requirement already satisfied: abydos in /Library/miniconda3/envs/rcm/lib/python3.9/site-packages (0.5.0)\n",
      "Requirement already satisfied: numpy in /Library/miniconda3/envs/rcm/lib/python3.9/site-packages (from abydos) (1.20.3)\n",
      "Requirement already satisfied: deprecation in /Library/miniconda3/envs/rcm/lib/python3.9/site-packages (from abydos) (2.1.0)\n",
      "Requirement already satisfied: packaging in /Library/miniconda3/envs/rcm/lib/python3.9/site-packages (from deprecation->abydos) (21.3)\n",
      "Requirement already satisfied: pyparsing!=3.0.5,>=2.0.2 in /Library/miniconda3/envs/rcm/lib/python3.9/site-packages (from packaging->deprecation->abydos) (3.0.4)\n"
     ]
    }
   ],
   "source": [
    "#! pip install StringDist\n",
    "#! pip install fastDamerauLevenshtein\n",
    "#! pip install pyxDamerauLevenshtein\n",
    "#! pip install jellyfish\n",
    "#! pip install editdistance # only Levenshtein distance\n",
    "#! pip install \"textdistance[extras]\"\n",
    "#! pip install pylev\n",
    "#! pip install abydos"
   ]
  },
  {
   "cell_type": "code",
   "execution_count": null,
   "id": "72ddd0c9",
   "metadata": {},
   "outputs": [],
   "source": [
    "from stringdist import rdlevenshtein_norm as d1\n",
    "#stringdist.rdlevenshtein_norm('test', 'testing')\n",
    "\n",
    "from fastDamerauLevenshtein import damerauLevenshtein as d2\n",
    "# damerauLevenshtein('car', 'cars', similarity=True)  expected result: 0.75\n",
    "\n",
    "from pyxdameraulevenshtein import normalized_damerau_levenshtein_distance as d3\n",
    "# normalized_damerau_levenshtein_distance('smtih', 'smith')  # expected result: 0.2\n",
    "# 0.0 means that the sequences are identical\n",
    "\n",
    "from jellyfish import damerau_levenshtein_distance as d4\n",
    "#jellyfish.damerau_levenshtein_distance(u'jellyfish', u'jellyfihs') \n",
    "#expected result: 1\n",
    "\n",
    "# editdistance only computes Levenshtein distance\n",
    "\n",
    "from textdistance import DamerauLevenshtein\n",
    "d5 = DamerauLevenshtein()\n",
    "# d5.normalized_similarity('smtih', 'smith') \n",
    "# expected result: 0.8\n",
    "\n",
    "from pylev import damerau_levenshtein as d6\n",
    "# d6('smtih', 'smith')\n",
    "# expected result: 1\n",
    "\n",
    "from abydos.distance import DamerauLevenshtein\n",
    "d7 = DamerauLevenshtein()"
   ]
  },
  {
   "cell_type": "markdown",
   "id": "4be0e780",
   "metadata": {},
   "source": [
    "### load packages"
   ]
  },
  {
   "cell_type": "code",
   "execution_count": 45,
   "id": "c3cec1d5",
   "metadata": {
    "ExecuteTime": {
     "end_time": "2022-06-16T22:09:50.245488Z",
     "start_time": "2022-06-16T22:09:50.242743Z"
    }
   },
   "outputs": [],
   "source": [
    "str1, str2 = 'smtih', 'smith'"
   ]
  },
  {
   "cell_type": "code",
   "execution_count": 49,
   "id": "9e34ad9b",
   "metadata": {
    "ExecuteTime": {
     "end_time": "2022-06-16T22:11:43.422249Z",
     "start_time": "2022-06-16T22:11:43.417824Z"
    }
   },
   "outputs": [
    {
     "data": {
      "text/plain": [
       "0.8"
      ]
     },
     "execution_count": 49,
     "metadata": {},
     "output_type": "execute_result"
    }
   ],
   "source": [
    "from stringdist import rdlevenshtein_norm as d1\n",
    "1-d1(str1, str2)"
   ]
  },
  {
   "cell_type": "code",
   "execution_count": 50,
   "id": "90be6ff8",
   "metadata": {
    "ExecuteTime": {
     "end_time": "2022-06-16T22:12:25.606176Z",
     "start_time": "2022-06-16T22:12:25.479215Z"
    }
   },
   "outputs": [
    {
     "data": {
      "text/plain": [
       "0.8"
      ]
     },
     "execution_count": 50,
     "metadata": {},
     "output_type": "execute_result"
    }
   ],
   "source": [
    "from fastDamerauLevenshtein import damerauLevenshtein as d2\n",
    "d2(str1, str2, similarity=True)"
   ]
  },
  {
   "cell_type": "code",
   "execution_count": 52,
   "id": "17db0f13",
   "metadata": {
    "ExecuteTime": {
     "end_time": "2022-06-16T22:12:50.999845Z",
     "start_time": "2022-06-16T22:12:50.995683Z"
    }
   },
   "outputs": [
    {
     "data": {
      "text/plain": [
       "0.7999999970197678"
      ]
     },
     "execution_count": 52,
     "metadata": {},
     "output_type": "execute_result"
    }
   ],
   "source": [
    "from pyxdameraulevenshtein import normalized_damerau_levenshtein_distance as d3\n",
    "1-d3(str1, str2)"
   ]
  },
  {
   "cell_type": "code",
   "execution_count": 56,
   "id": "c52c23ce",
   "metadata": {
    "ExecuteTime": {
     "end_time": "2022-06-16T22:14:18.669556Z",
     "start_time": "2022-06-16T22:14:18.663860Z"
    }
   },
   "outputs": [
    {
     "data": {
      "text/plain": [
       "0.8"
      ]
     },
     "execution_count": 56,
     "metadata": {},
     "output_type": "execute_result"
    }
   ],
   "source": [
    "from jellyfish import damerau_levenshtein_distance as d4\n",
    "1-d4(str1, str2)/max(len(str1), len(str2))"
   ]
  },
  {
   "cell_type": "code",
   "execution_count": 47,
   "id": "704c940f",
   "metadata": {
    "ExecuteTime": {
     "end_time": "2022-06-16T22:10:30.226100Z",
     "start_time": "2022-06-16T22:10:30.218059Z"
    }
   },
   "outputs": [
    {
     "data": {
      "text/plain": [
       "0.8"
      ]
     },
     "execution_count": 47,
     "metadata": {},
     "output_type": "execute_result"
    }
   ],
   "source": [
    "from textdistance import DamerauLevenshtein\n",
    "d5 = DamerauLevenshtein()\n",
    "# d5.normalized_similarity('smtih', 'smith') \n",
    "# expected result: 0.8\n",
    "d5.normalized_similarity(str1, str2)"
   ]
  },
  {
   "cell_type": "code",
   "execution_count": 44,
   "id": "a303d395",
   "metadata": {
    "ExecuteTime": {
     "end_time": "2022-06-16T22:09:36.686932Z",
     "start_time": "2022-06-16T22:09:36.681123Z"
    }
   },
   "outputs": [
    {
     "data": {
      "text/plain": [
       "0.8"
      ]
     },
     "execution_count": 44,
     "metadata": {},
     "output_type": "execute_result"
    }
   ],
   "source": [
    "from pylev import damerau_levenshtein as d6\n",
    "\n",
    "1-d6(str1, str2)/max(len(str1), len(str2))"
   ]
  },
  {
   "cell_type": "code",
   "execution_count": 37,
   "id": "2995bdb5",
   "metadata": {
    "ExecuteTime": {
     "end_time": "2022-06-16T22:06:38.276977Z",
     "start_time": "2022-06-16T22:06:38.251135Z"
    }
   },
   "outputs": [
    {
     "data": {
      "text/plain": [
       "0.8"
      ]
     },
     "execution_count": 37,
     "metadata": {},
     "output_type": "execute_result"
    }
   ],
   "source": [
    "from abydos.distance import DamerauLevenshtein\n",
    "d7 = DamerauLevenshtein()\n",
    "1 - d7.dist(str1, str2)"
   ]
  },
  {
   "cell_type": "markdown",
   "id": "c2b5a244",
   "metadata": {},
   "source": [
    "### long string test"
   ]
  },
  {
   "cell_type": "code",
   "execution_count": 67,
   "id": "4ffcde9c",
   "metadata": {
    "ExecuteTime": {
     "end_time": "2022-06-16T22:26:35.199435Z",
     "start_time": "2022-06-16T22:26:35.196565Z"
    }
   },
   "outputs": [
    {
     "name": "stdout",
     "output_type": "stream",
     "text": [
      "1 QUAL LANE\n",
      "1 QUAIL LN\n"
     ]
    }
   ],
   "source": [
    "str1, str2 = '1 QUAL LANE', '1 QUAIL LN'\n",
    "print(str1)\n",
    "print(str2)"
   ]
  },
  {
   "cell_type": "code",
   "execution_count": 59,
   "id": "8ff7aec6",
   "metadata": {
    "ExecuteTime": {
     "end_time": "2022-06-16T22:17:36.500985Z",
     "start_time": "2022-06-16T22:17:36.488741Z"
    }
   },
   "outputs": [
    {
     "name": "stdout",
     "output_type": "stream",
     "text": [
      "0.7272727272727273\n",
      "0.7272727272727273\n",
      "0.7272727191448212\n",
      "0.7272727272727273\n",
      "0.7272727272727273\n",
      "0.7272727272727273\n",
      "0.7272727272727273\n"
     ]
    }
   ],
   "source": [
    "print(1-d1(str1, str2))\n",
    "print(d2(str1, str2, similarity=True))\n",
    "print(1-d3(str1, str2))\n",
    "print(1-d4(str1, str2)/max(len(str1), len(str2)))\n",
    "print(d5.normalized_similarity(str1, str2))\n",
    "print(1-d6(str1, str2)/max(len(str1), len(str2)))\n",
    "print(1 - d7.dist(str1, str2))"
   ]
  },
  {
   "cell_type": "markdown",
   "id": "a6f7aa4c",
   "metadata": {},
   "source": [
    "1 ns  = 0.001 µs  (micro)"
   ]
  },
  {
   "cell_type": "code",
   "execution_count": 60,
   "id": "b8826b93",
   "metadata": {
    "ExecuteTime": {
     "end_time": "2022-06-16T22:20:04.781676Z",
     "start_time": "2022-06-16T22:20:00.162512Z"
    }
   },
   "outputs": [
    {
     "name": "stdout",
     "output_type": "stream",
     "text": [
      "564 ns ± 5.9 ns per loop (mean ± std. dev. of 7 runs, 1000000 loops each)\n"
     ]
    }
   ],
   "source": [
    "%%timeit\n",
    "1-d1(str1, str2)"
   ]
  },
  {
   "cell_type": "code",
   "execution_count": 61,
   "id": "c9aaf120",
   "metadata": {
    "ExecuteTime": {
     "end_time": "2022-06-16T22:20:06.684828Z",
     "start_time": "2022-06-16T22:20:04.783419Z"
    }
   },
   "outputs": [
    {
     "name": "stdout",
     "output_type": "stream",
     "text": [
      "2.27 µs ± 59.9 ns per loop (mean ± std. dev. of 7 runs, 100000 loops each)\n"
     ]
    }
   ],
   "source": [
    "%%timeit\n",
    "d2(str1, str2, similarity=True)"
   ]
  },
  {
   "cell_type": "code",
   "execution_count": 62,
   "id": "485ccdcf",
   "metadata": {
    "ExecuteTime": {
     "end_time": "2022-06-16T22:20:08.914366Z",
     "start_time": "2022-06-16T22:20:06.686645Z"
    }
   },
   "outputs": [
    {
     "name": "stdout",
     "output_type": "stream",
     "text": [
      "2.69 µs ± 52.2 ns per loop (mean ± std. dev. of 7 runs, 100000 loops each)\n"
     ]
    }
   ],
   "source": [
    "%%timeit\n",
    "1-d3(str1, str2)"
   ]
  },
  {
   "cell_type": "code",
   "execution_count": 63,
   "id": "b9962abf",
   "metadata": {
    "ExecuteTime": {
     "end_time": "2022-06-16T22:20:18.159549Z",
     "start_time": "2022-06-16T22:20:08.917994Z"
    }
   },
   "outputs": [
    {
     "name": "stdout",
     "output_type": "stream",
     "text": [
      "1.14 µs ± 15.7 ns per loop (mean ± std. dev. of 7 runs, 1000000 loops each)\n"
     ]
    }
   ],
   "source": [
    "%%timeit\n",
    "1-d4(str1, str2)/max(len(str1), len(str2))"
   ]
  },
  {
   "cell_type": "code",
   "execution_count": 64,
   "id": "650254bd",
   "metadata": {
    "ExecuteTime": {
     "end_time": "2022-06-16T22:20:22.898653Z",
     "start_time": "2022-06-16T22:20:18.161377Z"
    }
   },
   "outputs": [
    {
     "name": "stdout",
     "output_type": "stream",
     "text": [
      "5.76 µs ± 594 ns per loop (mean ± std. dev. of 7 runs, 100000 loops each)\n"
     ]
    }
   ],
   "source": [
    "%%timeit\n",
    "d5.normalized_similarity(str1, str2)"
   ]
  },
  {
   "cell_type": "code",
   "execution_count": 65,
   "id": "6349a754",
   "metadata": {
    "ExecuteTime": {
     "end_time": "2022-06-16T22:20:27.572515Z",
     "start_time": "2022-06-16T22:20:22.900985Z"
    }
   },
   "outputs": [
    {
     "name": "stdout",
     "output_type": "stream",
     "text": [
      "55.2 µs ± 9.43 µs per loop (mean ± std. dev. of 7 runs, 10000 loops each)\n"
     ]
    }
   ],
   "source": [
    "%%timeit\n",
    "1-d6(str1, str2)/max(len(str1), len(str2))"
   ]
  },
  {
   "cell_type": "code",
   "execution_count": 66,
   "id": "701063d7",
   "metadata": {
    "ExecuteTime": {
     "end_time": "2022-06-16T22:20:29.147050Z",
     "start_time": "2022-06-16T22:20:27.574828Z"
    }
   },
   "outputs": [
    {
     "name": "stdout",
     "output_type": "stream",
     "text": [
      "187 µs ± 20.3 µs per loop (mean ± std. dev. of 7 runs, 1000 loops each)\n"
     ]
    }
   ],
   "source": [
    "%%timeit\n",
    "1 - d7.dist(str1, str2)"
   ]
  },
  {
   "cell_type": "markdown",
   "id": "ca8ea7d5",
   "metadata": {},
   "source": [
    "### short string test"
   ]
  },
  {
   "cell_type": "code",
   "execution_count": 68,
   "id": "6f3ed62b",
   "metadata": {
    "ExecuteTime": {
     "end_time": "2022-06-16T22:27:02.702926Z",
     "start_time": "2022-06-16T22:27:02.700666Z"
    }
   },
   "outputs": [],
   "source": [
    "str1, str2 = 'smtih', 'smith'"
   ]
  },
  {
   "cell_type": "code",
   "execution_count": 69,
   "id": "fe113995",
   "metadata": {
    "ExecuteTime": {
     "end_time": "2022-06-16T22:28:51.020593Z",
     "start_time": "2022-06-16T22:28:51.013900Z"
    }
   },
   "outputs": [
    {
     "name": "stdout",
     "output_type": "stream",
     "text": [
      "0.8\n",
      "0.8\n",
      "0.7999999970197678\n",
      "0.8\n",
      "0.8\n",
      "0.8\n",
      "0.8\n"
     ]
    }
   ],
   "source": [
    "print(1-d1(str1, str2))\n",
    "print(d2(str1, str2, similarity=True))\n",
    "print(1-d3(str1, str2))\n",
    "print(1-d4(str1, str2)/max(len(str1), len(str2)))\n",
    "print(d5.normalized_similarity(str1, str2))\n",
    "print(1-d6(str1, str2)/max(len(str1), len(str2)))\n",
    "print(1 - d7.dist(str1, str2))"
   ]
  },
  {
   "cell_type": "code",
   "execution_count": 70,
   "id": "0b54992d",
   "metadata": {
    "ExecuteTime": {
     "end_time": "2022-06-16T22:29:00.551252Z",
     "start_time": "2022-06-16T22:28:58.567849Z"
    }
   },
   "outputs": [
    {
     "name": "stdout",
     "output_type": "stream",
     "text": [
      "243 ns ± 6.9 ns per loop (mean ± std. dev. of 7 runs, 1000000 loops each)\n"
     ]
    }
   ],
   "source": [
    "%%timeit\n",
    "1-d1(str1, str2)"
   ]
  },
  {
   "cell_type": "code",
   "execution_count": 71,
   "id": "2d668e94",
   "metadata": {
    "ExecuteTime": {
     "end_time": "2022-06-16T22:29:11.547092Z",
     "start_time": "2022-06-16T22:29:01.079682Z"
    }
   },
   "outputs": [
    {
     "name": "stdout",
     "output_type": "stream",
     "text": [
      "1.28 µs ± 43 ns per loop (mean ± std. dev. of 7 runs, 1000000 loops each)\n"
     ]
    }
   ],
   "source": [
    "%%timeit\n",
    "d2(str1, str2, similarity=True)"
   ]
  },
  {
   "cell_type": "code",
   "execution_count": 72,
   "id": "2e79d34e",
   "metadata": {
    "ExecuteTime": {
     "end_time": "2022-06-16T22:29:20.966279Z",
     "start_time": "2022-06-16T22:29:11.549858Z"
    }
   },
   "outputs": [
    {
     "name": "stdout",
     "output_type": "stream",
     "text": [
      "1.15 µs ± 46.3 ns per loop (mean ± std. dev. of 7 runs, 1000000 loops each)\n"
     ]
    }
   ],
   "source": [
    "%%timeit\n",
    "1-d3(str1, str2)"
   ]
  },
  {
   "cell_type": "code",
   "execution_count": 73,
   "id": "a4877a37",
   "metadata": {
    "ExecuteTime": {
     "end_time": "2022-06-16T22:29:28.291539Z",
     "start_time": "2022-06-16T22:29:20.969372Z"
    }
   },
   "outputs": [
    {
     "name": "stdout",
     "output_type": "stream",
     "text": [
      "891 ns ± 68.8 ns per loop (mean ± std. dev. of 7 runs, 1000000 loops each)\n"
     ]
    }
   ],
   "source": [
    "%%timeit\n",
    "1-d4(str1, str2)/max(len(str1), len(str2))"
   ]
  },
  {
   "cell_type": "code",
   "execution_count": 74,
   "id": "b6d35737",
   "metadata": {
    "ExecuteTime": {
     "end_time": "2022-06-16T22:29:33.076128Z",
     "start_time": "2022-06-16T22:29:28.294982Z"
    }
   },
   "outputs": [
    {
     "name": "stdout",
     "output_type": "stream",
     "text": [
      "5.74 µs ± 500 ns per loop (mean ± std. dev. of 7 runs, 100000 loops each)\n"
     ]
    }
   ],
   "source": [
    "%%timeit\n",
    "d5.normalized_similarity(str1, str2)"
   ]
  },
  {
   "cell_type": "code",
   "execution_count": 75,
   "id": "09c7085e",
   "metadata": {
    "ExecuteTime": {
     "end_time": "2022-06-16T22:29:42.387914Z",
     "start_time": "2022-06-16T22:29:33.078195Z"
    }
   },
   "outputs": [
    {
     "name": "stdout",
     "output_type": "stream",
     "text": [
      "11.3 µs ± 274 ns per loop (mean ± std. dev. of 7 runs, 100000 loops each)\n"
     ]
    }
   ],
   "source": [
    "%%timeit\n",
    "1-d6(str1, str2)/max(len(str1), len(str2))"
   ]
  },
  {
   "cell_type": "code",
   "execution_count": 76,
   "id": "e2c86144",
   "metadata": {
    "ExecuteTime": {
     "end_time": "2022-06-16T22:29:45.222650Z",
     "start_time": "2022-06-16T22:29:42.390522Z"
    }
   },
   "outputs": [
    {
     "name": "stdout",
     "output_type": "stream",
     "text": [
      "33.9 µs ± 1.1 µs per loop (mean ± std. dev. of 7 runs, 10000 loops each)\n"
     ]
    }
   ],
   "source": [
    "%%timeit\n",
    "1 - d7.dist(str1, str2)"
   ]
  },
  {
   "cell_type": "markdown",
   "id": "04f36fa5",
   "metadata": {},
   "source": []
  },
  {
   "cell_type": "code",
   "execution_count": null,
   "id": "e0f8575c",
   "metadata": {},
   "outputs": [],
   "source": []
  }
 ],
 "metadata": {
  "kernelspec": {
   "display_name": "Python 3 (ipykernel)",
   "language": "python",
   "name": "python3"
  },
  "language_info": {
   "codemirror_mode": {
    "name": "ipython",
    "version": 3
   },
   "file_extension": ".py",
   "mimetype": "text/x-python",
   "name": "python",
   "nbconvert_exporter": "python",
   "pygments_lexer": "ipython3",
   "version": "3.9.7"
  },
  "toc": {
   "base_numbering": 1,
   "nav_menu": {},
   "number_sections": true,
   "sideBar": true,
   "skip_h1_title": true,
   "title_cell": "Table of Contents",
   "title_sidebar": "Contents",
   "toc_cell": true,
   "toc_position": {},
   "toc_section_display": true,
   "toc_window_display": true
  }
 },
 "nbformat": 4,
 "nbformat_minor": 5
}
